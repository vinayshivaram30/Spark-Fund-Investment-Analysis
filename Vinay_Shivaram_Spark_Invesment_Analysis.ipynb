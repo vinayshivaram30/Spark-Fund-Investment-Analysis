{
 "cells": [
  {
   "cell_type": "markdown",
   "id": "4b573730",
   "metadata": {},
   "source": [
    "## Investment Assignment\n",
    "### Objective\n",
    "You work for Spark Funds, an asset management company. Spark Funds wants to make investments in a few companies. The CEO of Spark Funds wants to understand the global trends in investments so that she can take the investment decisions effectively.\n",
    "\n",
    "The objective is to identify the best sectors, countries, and a suitable investment type for making investments. The overall strategy is to invest where others are investing, implying that the 'best' sectors and countries are the ones 'where most investors are investing'.\n",
    "\n",
    "### Constraints\n",
    "Spark Funds has two minor constraints for investments:\n",
    "\n",
    "    1.It wants to invest between 5 to 15 million USD per round of investment\n",
    "\n",
    "    2.It wants to invest only in English-speaking countries because of the ease of communication with the companies it would invest in\n",
    "\n",
    "For your analysis, consider a country to be English speaking only if English is one of the official languages in that country\n",
    "\n",
    "###  Data Analysis Suggested\n",
    "<b>Investment type analysis:</b> Comparing the typical investment amounts in the venture, seed, angel, private equity etc. so that Spark Funds can choose the type that is best suited for their strategy.\n",
    "<br><b>Country analysis:</b> Identifying the countries which have been the most heavily invested in the past. These will be Spark Funds’ favourites as well.\n",
    "<br><b>Sector analysis:</b> Understanding the distribution of investments across the eight main sectors. (Note that we are interested in the eight 'main sectors' provided in the mapping file. The two files — companies and rounds2 — have numerous sub-sector names; hence, you will need to map each sub-sector to its main sector.)"
   ]
  },
  {
   "cell_type": "code",
   "execution_count": 1,
   "id": "f2e60987",
   "metadata": {},
   "outputs": [
    {
     "name": "stdout",
     "output_type": "stream",
     "text": [
      "C:\\Users\\vshivara\\Downloads\\ML_EPGP\\Investment\n"
     ]
    }
   ],
   "source": [
    "#using jupyter magic command to change the current working directory.\n",
    "\n",
    "%cd \"C:\\Users\\vshivara\\Downloads\\ML_EPGP\\Investment\""
   ]
  },
  {
   "cell_type": "markdown",
   "id": "9eb6891e",
   "metadata": {},
   "source": [
    "### Importing necessary libraries"
   ]
  },
  {
   "cell_type": "code",
   "execution_count": 2,
   "id": "3ae48cf4",
   "metadata": {},
   "outputs": [],
   "source": [
    "import numpy as np\n",
    "import pandas as pd\n",
    "import chardet\n",
    "import seaborn as sns\n",
    "import matplotlib.pyplot as plt\n",
    "import warnings\n",
    "warnings.simplefilter(action='ignore', category=FutureWarning)"
   ]
  },
  {
   "cell_type": "markdown",
   "id": "70a88a14",
   "metadata": {},
   "source": [
    "### Know the encoding of each file"
   ]
  },
  {
   "cell_type": "code",
   "execution_count": 3,
   "id": "fb6c5dd2",
   "metadata": {},
   "outputs": [
    {
     "name": "stdout",
     "output_type": "stream",
     "text": [
      "{'encoding': 'utf-8', 'confidence': 0.99, 'language': ''}\n"
     ]
    }
   ],
   "source": [
    "with open(\"Input_Data/companies.csv\", 'rb') as rawdata:\n",
    "    result = chardet.detect(rawdata.read(50000))\n",
    "\n",
    "print(result)"
   ]
  },
  {
   "cell_type": "code",
   "execution_count": 4,
   "id": "1ecd266c",
   "metadata": {},
   "outputs": [
    {
     "name": "stdout",
     "output_type": "stream",
     "text": [
      "{'encoding': 'ISO-8859-1', 'confidence': 0.73, 'language': ''}\n"
     ]
    }
   ],
   "source": [
    "with open(\"Input_Data/rounds2.csv\", 'rb') as rawdata:\n",
    "    result = chardet.detect(rawdata.read(10000))\n",
    "\n",
    "print(result)"
   ]
  },
  {
   "cell_type": "code",
   "execution_count": 5,
   "id": "385b0e09",
   "metadata": {},
   "outputs": [
    {
     "name": "stdout",
     "output_type": "stream",
     "text": [
      "{'encoding': 'ascii', 'confidence': 1.0, 'language': ''}\n"
     ]
    }
   ],
   "source": [
    "with open(\"Input_Data/mapping.csv\", 'rb') as rawdata:\n",
    "    result = chardet.detect(rawdata.read(10000))\n",
    "\n",
    "print(result)"
   ]
  },
  {
   "cell_type": "markdown",
   "id": "3a2a788d",
   "metadata": {},
   "source": [
    "### Checkpoint 1: File Operations and Data Cleaning"
   ]
  },
  {
   "cell_type": "code",
   "execution_count": 7,
   "id": "9129b143",
   "metadata": {},
   "outputs": [],
   "source": [
    "companies=pd.read_csv(\"Input_Data/companies.csv\", encoding=\"unicode_escape\")\n",
    "rounds2=pd.read_csv(\"Input_Data/rounds2.csv\", encoding=\"ISO-8859-1\")\n",
    "mapping=pd.read_csv(\"Input_Data/mapping.csv\", encoding=\"ascii\")"
   ]
  },
  {
   "cell_type": "code",
   "execution_count": 8,
   "id": "94590148",
   "metadata": {},
   "outputs": [],
   "source": [
    "companies['permalink']=companies.permalink.apply(lambda x: x.lower())\n",
    "rounds2['company_permalink']=rounds2.company_permalink.apply(lambda x: x.lower())"
   ]
  },
  {
   "cell_type": "code",
   "execution_count": 9,
   "id": "98daece8",
   "metadata": {},
   "outputs": [
    {
     "data": {
      "text/plain": [
       "((66368, 10), (114949, 6))"
      ]
     },
     "execution_count": 9,
     "metadata": {},
     "output_type": "execute_result"
    }
   ],
   "source": [
    "companies.shape, rounds2.shape"
   ]
  },
  {
   "cell_type": "code",
   "execution_count": 10,
   "id": "9eae20c4",
   "metadata": {},
   "outputs": [
    {
     "data": {
      "text/plain": [
       "(66368, 66370)"
      ]
     },
     "execution_count": 10,
     "metadata": {},
     "output_type": "execute_result"
    }
   ],
   "source": [
    "companies.permalink.nunique(), rounds2.company_permalink.nunique()"
   ]
  },
  {
   "cell_type": "code",
   "execution_count": 11,
   "id": "1abd249c",
   "metadata": {},
   "outputs": [],
   "source": [
    "set1 = set(companies['permalink'].values)\n",
    "set2 = set(rounds2['company_permalink'].values)\n",
    "common = set1.intersection(set2)\n",
    "uncommon = set1.symmetric_difference(set2)"
   ]
  },
  {
   "cell_type": "code",
   "execution_count": 12,
   "id": "c17b74ae",
   "metadata": {},
   "outputs": [
    {
     "data": {
      "text/plain": [
       "(66363, 12)"
      ]
     },
     "execution_count": 12,
     "metadata": {},
     "output_type": "execute_result"
    }
   ],
   "source": [
    "len(common), len(uncommon)"
   ]
  },
  {
   "cell_type": "markdown",
   "id": "39473b65",
   "metadata": {},
   "source": [
    "#### Check for unique column in Companies"
   ]
  },
  {
   "cell_type": "code",
   "execution_count": 13,
   "id": "9946613c",
   "metadata": {},
   "outputs": [
    {
     "data": {
      "text/plain": [
       "(66099, 66368)"
      ]
     },
     "execution_count": 13,
     "metadata": {},
     "output_type": "execute_result"
    }
   ],
   "source": [
    "companies.name.nunique(), companies.permalink.nunique()"
   ]
  },
  {
   "cell_type": "markdown",
   "id": "e688a2fb",
   "metadata": {},
   "source": [
    "#### Merging Company and rounds2"
   ]
  },
  {
   "cell_type": "code",
   "execution_count": 14,
   "id": "31b67bc9",
   "metadata": {},
   "outputs": [
    {
     "data": {
      "text/plain": [
       "(114942, 16)"
      ]
     },
     "execution_count": 14,
     "metadata": {},
     "output_type": "execute_result"
    }
   ],
   "source": [
    "master_frame=pd.merge(companies, rounds2, how=\"inner\", left_on=\"permalink\", right_on=\"company_permalink\")\n",
    "master_frame.shape"
   ]
  },
  {
   "cell_type": "code",
   "execution_count": 15,
   "id": "ee51cf92",
   "metadata": {},
   "outputs": [
    {
     "data": {
      "text/html": [
       "<div>\n",
       "<style scoped>\n",
       "    .dataframe tbody tr th:only-of-type {\n",
       "        vertical-align: middle;\n",
       "    }\n",
       "\n",
       "    .dataframe tbody tr th {\n",
       "        vertical-align: top;\n",
       "    }\n",
       "\n",
       "    .dataframe thead th {\n",
       "        text-align: right;\n",
       "    }\n",
       "</style>\n",
       "<table border=\"1\" class=\"dataframe\">\n",
       "  <thead>\n",
       "    <tr style=\"text-align: right;\">\n",
       "      <th></th>\n",
       "      <th>permalink</th>\n",
       "      <th>name</th>\n",
       "      <th>homepage_url</th>\n",
       "      <th>category_list</th>\n",
       "      <th>status</th>\n",
       "      <th>country_code</th>\n",
       "      <th>state_code</th>\n",
       "      <th>region</th>\n",
       "      <th>city</th>\n",
       "      <th>founded_at</th>\n",
       "    </tr>\n",
       "  </thead>\n",
       "  <tbody>\n",
       "    <tr>\n",
       "      <th>0</th>\n",
       "      <td>/organization/-fame</td>\n",
       "      <td>#fame</td>\n",
       "      <td>http://livfame.com</td>\n",
       "      <td>Media</td>\n",
       "      <td>operating</td>\n",
       "      <td>IND</td>\n",
       "      <td>16</td>\n",
       "      <td>Mumbai</td>\n",
       "      <td>Mumbai</td>\n",
       "      <td>NaN</td>\n",
       "    </tr>\n",
       "    <tr>\n",
       "      <th>1</th>\n",
       "      <td>/organization/-qounter</td>\n",
       "      <td>:Qounter</td>\n",
       "      <td>http://www.qounter.com</td>\n",
       "      <td>Application Platforms|Real Time|Social Network...</td>\n",
       "      <td>operating</td>\n",
       "      <td>USA</td>\n",
       "      <td>DE</td>\n",
       "      <td>DE - Other</td>\n",
       "      <td>Delaware City</td>\n",
       "      <td>04-09-2014</td>\n",
       "    </tr>\n",
       "    <tr>\n",
       "      <th>2</th>\n",
       "      <td>/organization/-the-one-of-them-inc-</td>\n",
       "      <td>(THE) ONE of THEM,Inc.</td>\n",
       "      <td>http://oneofthem.jp</td>\n",
       "      <td>Apps|Games|Mobile</td>\n",
       "      <td>operating</td>\n",
       "      <td>NaN</td>\n",
       "      <td>NaN</td>\n",
       "      <td>NaN</td>\n",
       "      <td>NaN</td>\n",
       "      <td>NaN</td>\n",
       "    </tr>\n",
       "    <tr>\n",
       "      <th>3</th>\n",
       "      <td>/organization/0-6-com</td>\n",
       "      <td>0-6.com</td>\n",
       "      <td>http://www.0-6.com</td>\n",
       "      <td>Curated Web</td>\n",
       "      <td>operating</td>\n",
       "      <td>CHN</td>\n",
       "      <td>22</td>\n",
       "      <td>Beijing</td>\n",
       "      <td>Beijing</td>\n",
       "      <td>01-01-2007</td>\n",
       "    </tr>\n",
       "    <tr>\n",
       "      <th>4</th>\n",
       "      <td>/organization/004-technologies</td>\n",
       "      <td>004 Technologies</td>\n",
       "      <td>http://004gmbh.de/en/004-interact</td>\n",
       "      <td>Software</td>\n",
       "      <td>operating</td>\n",
       "      <td>USA</td>\n",
       "      <td>IL</td>\n",
       "      <td>Springfield, Illinois</td>\n",
       "      <td>Champaign</td>\n",
       "      <td>01-01-2010</td>\n",
       "    </tr>\n",
       "  </tbody>\n",
       "</table>\n",
       "</div>"
      ],
      "text/plain": [
       "                             permalink                    name  \\\n",
       "0                  /organization/-fame                   #fame   \n",
       "1               /organization/-qounter                :Qounter   \n",
       "2  /organization/-the-one-of-them-inc-  (THE) ONE of THEM,Inc.   \n",
       "3                /organization/0-6-com                 0-6.com   \n",
       "4       /organization/004-technologies        004 Technologies   \n",
       "\n",
       "                        homepage_url  \\\n",
       "0                 http://livfame.com   \n",
       "1             http://www.qounter.com   \n",
       "2                http://oneofthem.jp   \n",
       "3                 http://www.0-6.com   \n",
       "4  http://004gmbh.de/en/004-interact   \n",
       "\n",
       "                                       category_list     status country_code  \\\n",
       "0                                              Media  operating          IND   \n",
       "1  Application Platforms|Real Time|Social Network...  operating          USA   \n",
       "2                                  Apps|Games|Mobile  operating          NaN   \n",
       "3                                        Curated Web  operating          CHN   \n",
       "4                                           Software  operating          USA   \n",
       "\n",
       "  state_code                 region           city  founded_at  \n",
       "0         16                 Mumbai         Mumbai         NaN  \n",
       "1         DE             DE - Other  Delaware City  04-09-2014  \n",
       "2        NaN                    NaN            NaN         NaN  \n",
       "3         22                Beijing        Beijing  01-01-2007  \n",
       "4         IL  Springfield, Illinois      Champaign  01-01-2010  "
      ]
     },
     "execution_count": 15,
     "metadata": {},
     "output_type": "execute_result"
    }
   ],
   "source": [
    "companies.head()"
   ]
  },
  {
   "cell_type": "code",
   "execution_count": 16,
   "id": "deedfb2e",
   "metadata": {},
   "outputs": [
    {
     "name": "stdout",
     "output_type": "stream",
     "text": [
      "<class 'pandas.core.frame.DataFrame'>\n",
      "RangeIndex: 66368 entries, 0 to 66367\n",
      "Data columns (total 10 columns):\n",
      " #   Column         Non-Null Count  Dtype \n",
      "---  ------         --------------  ----- \n",
      " 0   permalink      66368 non-null  object\n",
      " 1   name           66367 non-null  object\n",
      " 2   homepage_url   61310 non-null  object\n",
      " 3   category_list  63220 non-null  object\n",
      " 4   status         66368 non-null  object\n",
      " 5   country_code   59410 non-null  object\n",
      " 6   state_code     57821 non-null  object\n",
      " 7   region         58338 non-null  object\n",
      " 8   city           58340 non-null  object\n",
      " 9   founded_at     51147 non-null  object\n",
      "dtypes: object(10)\n",
      "memory usage: 5.1+ MB\n"
     ]
    }
   ],
   "source": [
    "companies.info()"
   ]
  },
  {
   "cell_type": "code",
   "execution_count": 17,
   "id": "742f75f9",
   "metadata": {},
   "outputs": [
    {
     "data": {
      "text/html": [
       "<div>\n",
       "<style scoped>\n",
       "    .dataframe tbody tr th:only-of-type {\n",
       "        vertical-align: middle;\n",
       "    }\n",
       "\n",
       "    .dataframe tbody tr th {\n",
       "        vertical-align: top;\n",
       "    }\n",
       "\n",
       "    .dataframe thead th {\n",
       "        text-align: right;\n",
       "    }\n",
       "</style>\n",
       "<table border=\"1\" class=\"dataframe\">\n",
       "  <thead>\n",
       "    <tr style=\"text-align: right;\">\n",
       "      <th></th>\n",
       "      <th>permalink</th>\n",
       "      <th>name</th>\n",
       "      <th>homepage_url</th>\n",
       "      <th>category_list</th>\n",
       "      <th>status</th>\n",
       "      <th>country_code</th>\n",
       "      <th>state_code</th>\n",
       "      <th>region</th>\n",
       "      <th>city</th>\n",
       "      <th>founded_at</th>\n",
       "    </tr>\n",
       "  </thead>\n",
       "  <tbody>\n",
       "    <tr>\n",
       "      <th>count</th>\n",
       "      <td>66368</td>\n",
       "      <td>66367</td>\n",
       "      <td>61310</td>\n",
       "      <td>63220</td>\n",
       "      <td>66368</td>\n",
       "      <td>59410</td>\n",
       "      <td>57821</td>\n",
       "      <td>58338</td>\n",
       "      <td>58340</td>\n",
       "      <td>51147</td>\n",
       "    </tr>\n",
       "    <tr>\n",
       "      <th>unique</th>\n",
       "      <td>66368</td>\n",
       "      <td>66099</td>\n",
       "      <td>61191</td>\n",
       "      <td>27296</td>\n",
       "      <td>4</td>\n",
       "      <td>137</td>\n",
       "      <td>311</td>\n",
       "      <td>1092</td>\n",
       "      <td>5111</td>\n",
       "      <td>3978</td>\n",
       "    </tr>\n",
       "    <tr>\n",
       "      <th>top</th>\n",
       "      <td>/organization/random42</td>\n",
       "      <td>Blink</td>\n",
       "      <td>http://www.askforoffer.com</td>\n",
       "      <td>Software</td>\n",
       "      <td>operating</td>\n",
       "      <td>USA</td>\n",
       "      <td>CA</td>\n",
       "      <td>SF Bay Area</td>\n",
       "      <td>San Francisco</td>\n",
       "      <td>01-01-2012</td>\n",
       "    </tr>\n",
       "    <tr>\n",
       "      <th>freq</th>\n",
       "      <td>1</td>\n",
       "      <td>4</td>\n",
       "      <td>5</td>\n",
       "      <td>3995</td>\n",
       "      <td>53034</td>\n",
       "      <td>37601</td>\n",
       "      <td>12900</td>\n",
       "      <td>8804</td>\n",
       "      <td>3526</td>\n",
       "      <td>2730</td>\n",
       "    </tr>\n",
       "  </tbody>\n",
       "</table>\n",
       "</div>"
      ],
      "text/plain": [
       "                     permalink   name                homepage_url  \\\n",
       "count                    66368  66367                       61310   \n",
       "unique                   66368  66099                       61191   \n",
       "top     /organization/random42  Blink  http://www.askforoffer.com   \n",
       "freq                         1      4                           5   \n",
       "\n",
       "       category_list     status country_code state_code       region  \\\n",
       "count          63220      66368        59410      57821        58338   \n",
       "unique         27296          4          137        311         1092   \n",
       "top         Software  operating          USA         CA  SF Bay Area   \n",
       "freq            3995      53034        37601      12900         8804   \n",
       "\n",
       "                 city  founded_at  \n",
       "count           58340       51147  \n",
       "unique           5111        3978  \n",
       "top     San Francisco  01-01-2012  \n",
       "freq             3526        2730  "
      ]
     },
     "execution_count": 17,
     "metadata": {},
     "output_type": "execute_result"
    }
   ],
   "source": [
    "companies.describe()"
   ]
  },
  {
   "cell_type": "code",
   "execution_count": 18,
   "id": "8e87a2c8",
   "metadata": {},
   "outputs": [
    {
     "data": {
      "text/plain": [
       "permalink            0\n",
       "name                 1\n",
       "homepage_url      5058\n",
       "category_list     3148\n",
       "status               0\n",
       "country_code      6958\n",
       "state_code        8547\n",
       "region            8030\n",
       "city              8028\n",
       "founded_at       15221\n",
       "dtype: int64"
      ]
     },
     "execution_count": 18,
     "metadata": {},
     "output_type": "execute_result"
    }
   ],
   "source": [
    "# Nan values for every column in Companies dataset\n",
    "companies.isna().sum()"
   ]
  },
  {
   "cell_type": "code",
   "execution_count": 19,
   "id": "32bb9ff8",
   "metadata": {},
   "outputs": [
    {
     "name": "stdout",
     "output_type": "stream",
     "text": [
      "<class 'pandas.core.frame.DataFrame'>\n",
      "RangeIndex: 114949 entries, 0 to 114948\n",
      "Data columns (total 6 columns):\n",
      " #   Column                   Non-Null Count   Dtype  \n",
      "---  ------                   --------------   -----  \n",
      " 0   company_permalink        114949 non-null  object \n",
      " 1   funding_round_permalink  114949 non-null  object \n",
      " 2   funding_round_type       114949 non-null  object \n",
      " 3   funding_round_code       31140 non-null   object \n",
      " 4   funded_at                114949 non-null  object \n",
      " 5   raised_amount_usd        94959 non-null   float64\n",
      "dtypes: float64(1), object(5)\n",
      "memory usage: 5.3+ MB\n"
     ]
    }
   ],
   "source": [
    "rounds2.info()"
   ]
  },
  {
   "cell_type": "code",
   "execution_count": 20,
   "id": "876cae4d",
   "metadata": {},
   "outputs": [
    {
     "data": {
      "text/plain": [
       "company_permalink              0\n",
       "funding_round_permalink        0\n",
       "funding_round_type             0\n",
       "funding_round_code         83809\n",
       "funded_at                      0\n",
       "raised_amount_usd          19990\n",
       "dtype: int64"
      ]
     },
     "execution_count": 20,
     "metadata": {},
     "output_type": "execute_result"
    }
   ],
   "source": [
    "# Nan values for every column in rounds2 dataset\n",
    "rounds2.isna().sum()"
   ]
  },
  {
   "cell_type": "markdown",
   "id": "450b5e20",
   "metadata": {},
   "source": [
    "### Checkpoint 2: Funding Analysis"
   ]
  },
  {
   "cell_type": "markdown",
   "id": "185f0cfc",
   "metadata": {},
   "source": [
    "Lets see how the investment is spread across"
   ]
  },
  {
   "cell_type": "code",
   "execution_count": 21,
   "id": "0f919a32",
   "metadata": {},
   "outputs": [
    {
     "data": {
      "image/png": "[encoded data removed]",
      "text/plain": [
       "<Figure size 1080x576 with 1 Axes>"
      ]
     },
     "metadata": {
      "needs_background": "light"
     },
     "output_type": "display_data"
    }
   ],
   "source": [
    "plt.figure(figsize = (15,8))\n",
    "plt.title('Investment across various Fund Types')\n",
    "sns.barplot(x='funding_round_type', y=\"raised_amount_usd\", data=master_frame, estimator=np.sum)\n",
    "plt.xticks(rotation=45)\n",
    "plt.show()"
   ]
  },
  {
   "cell_type": "markdown",
   "id": "684ebde8",
   "metadata": {},
   "source": [
    "Since, spark funding is only interested in these 4 types (seed, angel, venture, spark equity), we will filter the rest"
   ]
  },
  {
   "cell_type": "code",
   "execution_count": 22,
   "id": "4941352d",
   "metadata": {},
   "outputs": [
    {
     "data": {
      "text/plain": [
       "(94390, 16)"
      ]
     },
     "execution_count": 22,
     "metadata": {},
     "output_type": "execute_result"
    }
   ],
   "source": [
    "master_frame=master_frame[master_frame.funding_round_type.isin(['seed','angel','venture','private_equity'])]\n",
    "master_frame.shape"
   ]
  },
  {
   "cell_type": "code",
   "execution_count": 23,
   "id": "edb01f81",
   "metadata": {},
   "outputs": [
    {
     "data": {
      "text/plain": [
       "13764"
      ]
     },
     "execution_count": 23,
     "metadata": {},
     "output_type": "execute_result"
    }
   ],
   "source": [
    "# Check for no of null values for the raisedamount_usd\n",
    "master_frame.raised_amount_usd.isnull().sum()"
   ]
  },
  {
   "cell_type": "code",
   "execution_count": 24,
   "id": "94ed4af8",
   "metadata": {},
   "outputs": [
    {
     "data": {
      "text/plain": [
       "0.14582053183599958"
      ]
     },
     "execution_count": 24,
     "metadata": {},
     "output_type": "execute_result"
    }
   ],
   "source": [
    "# lets see the same in percentage of entire data size\n",
    "master_frame.raised_amount_usd.isnull().sum()/master_frame.shape[0]"
   ]
  },
  {
   "cell_type": "code",
   "execution_count": 25,
   "id": "6c5d25fa",
   "metadata": {},
   "outputs": [
    {
     "data": {
      "text/plain": [
       "(80626, 16)"
      ]
     },
     "execution_count": 25,
     "metadata": {},
     "output_type": "execute_result"
    }
   ],
   "source": [
    "# Since, it constitutes 14.6 percentage of data. Imputing this column, we might end up with wrong analysis.\n",
    "master_frame.dropna(subset=[\"raised_amount_usd\"], inplace=True)\n",
    "master_frame.shape"
   ]
  },
  {
   "cell_type": "code",
   "execution_count": 26,
   "id": "6d161690",
   "metadata": {},
   "outputs": [
    {
     "data": {
      "text/plain": [
       "count    8.062600e+04\n",
       "mean     9.348091e+06\n",
       "std      7.562986e+07\n",
       "min      0.000000e+00\n",
       "25%      4.000000e+05\n",
       "50%      2.000000e+06\n",
       "75%      7.976016e+06\n",
       "max      1.760000e+10\n",
       "Name: raised_amount_usd, dtype: float64"
      ]
     },
     "execution_count": 26,
     "metadata": {},
     "output_type": "execute_result"
    }
   ],
   "source": [
    "master_frame.raised_amount_usd.describe()"
   ]
  },
  {
   "cell_type": "code",
   "execution_count": 27,
   "id": "0b67a16a",
   "metadata": {},
   "outputs": [
    {
     "data": {
      "image/png": "[encoded data removed]",
      "text/plain": [
       "<Figure size 1152x432 with 2 Axes>"
      ]
     },
     "metadata": {
      "needs_background": "light"
     },
     "output_type": "display_data"
    }
   ],
   "source": [
    "plt.figure(1)\n",
    "plt.subplot(121)\n",
    "sns.distplot(master_frame['raised_amount_usd']);\n",
    "\n",
    "plt.subplot(122)\n",
    "master_frame['raised_amount_usd'].plot.box(figsize=(16,6))\n",
    "\n",
    "plt.show()"
   ]
  },
  {
   "cell_type": "code",
   "execution_count": 28,
   "id": "3b84242e",
   "metadata": {},
   "outputs": [
    {
     "name": "stdout",
     "output_type": "stream",
     "text": [
      "Funding Type: seed\n",
      "Mean: 719779.6202016778\n",
      "Median: 275000.0 \n",
      "\n",
      "Funding Type: angel\n",
      "Mean: 958694.4697530865\n",
      "Median: 400000.0 \n",
      "\n",
      "Funding Type: venture\n",
      "Mean: 11748949.129489528\n",
      "Median: 5000000.0 \n",
      "\n",
      "Funding Type: private_equity\n",
      "Mean: 73308593.02944215\n",
      "Median: 20000000.0 \n",
      "\n"
     ]
    }
   ],
   "source": [
    "for funding_type in ['seed','angel','venture','private_equity']:\n",
    "    print('Funding Type:', funding_type)\n",
    "    print(\"Mean:\", master_frame[master_frame.funding_round_type==funding_type]['raised_amount_usd'].mean())\n",
    "    print(\"Median:\", master_frame[master_frame.funding_round_type==funding_type]['raised_amount_usd'].median(),\"\\n\")"
   ]
  },
  {
   "cell_type": "code",
   "execution_count": 29,
   "id": "b2815c0f",
   "metadata": {},
   "outputs": [
    {
     "data": {
      "image/png": "[encoded data removed]",
      "text/plain": [
       "<Figure size 1440x720 with 2 Axes>"
      ]
     },
     "metadata": {
      "needs_background": "light"
     },
     "output_type": "display_data"
    }
   ],
   "source": [
    "f,(ax1,ax2)=plt.subplots(1,2, figsize=(20,10))\n",
    "plt.subplot(1, 2, 1)\n",
    "plt.title('Mean')\n",
    "sns.barplot(x='raised_amount_usd', y=\"funding_round_type\", data=master_frame, estimator=np.mean)\n",
    "plt.subplot(1, 2, 2)\n",
    "plt.title('Median')\n",
    "sns.barplot(x='raised_amount_usd', y=\"funding_round_type\", data=master_frame, estimator=np.median)\n",
    "plt.show()"
   ]
  },
  {
   "cell_type": "markdown",
   "id": "dd6859af",
   "metadata": {},
   "source": [
    "By all statistics measure we can see, venture is the right funding type# "
   ]
  },
  {
   "cell_type": "markdown",
   "id": "e3110ad3",
   "metadata": {},
   "source": [
    "###  Checkpoint 3: Country Analysis"
   ]
  },
  {
   "cell_type": "markdown",
   "id": "faa7c9b6",
   "metadata": {},
   "source": [
    "Spark Funds wants to invest in countries with the highest amount of funding for the chosen investment type. This is a part of its broader strategy to invest where most investments are occurring."
   ]
  },
  {
   "cell_type": "code",
   "execution_count": 30,
   "id": "ce8c3729",
   "metadata": {},
   "outputs": [
    {
     "data": {
      "text/plain": [
       "(50228, 16)"
      ]
     },
     "execution_count": 30,
     "metadata": {},
     "output_type": "execute_result"
    }
   ],
   "source": [
    "master_frame=master_frame[master_frame.funding_round_type=='venture']\n",
    "master_frame.shape"
   ]
  },
  {
   "cell_type": "markdown",
   "id": "b5d89648",
   "metadata": {},
   "source": [
    "top 9 countries where most funds are received"
   ]
  },
  {
   "cell_type": "code",
   "execution_count": 31,
   "id": "290d61ba",
   "metadata": {},
   "outputs": [
    {
     "data": {
      "text/html": [
       "<div>\n",
       "<style scoped>\n",
       "    .dataframe tbody tr th:only-of-type {\n",
       "        vertical-align: middle;\n",
       "    }\n",
       "\n",
       "    .dataframe tbody tr th {\n",
       "        vertical-align: top;\n",
       "    }\n",
       "\n",
       "    .dataframe thead th {\n",
       "        text-align: right;\n",
       "    }\n",
       "</style>\n",
       "<table border=\"1\" class=\"dataframe\">\n",
       "  <thead>\n",
       "    <tr style=\"text-align: right;\">\n",
       "      <th></th>\n",
       "      <th>country_code</th>\n",
       "      <th>raised_amount_usd</th>\n",
       "    </tr>\n",
       "  </thead>\n",
       "  <tbody>\n",
       "    <tr>\n",
       "      <th>0</th>\n",
       "      <td>USA</td>\n",
       "      <td>4.225108e+11</td>\n",
       "    </tr>\n",
       "    <tr>\n",
       "      <th>1</th>\n",
       "      <td>CHN</td>\n",
       "      <td>3.983542e+10</td>\n",
       "    </tr>\n",
       "    <tr>\n",
       "      <th>2</th>\n",
       "      <td>GBR</td>\n",
       "      <td>2.024563e+10</td>\n",
       "    </tr>\n",
       "    <tr>\n",
       "      <th>3</th>\n",
       "      <td>IND</td>\n",
       "      <td>1.439186e+10</td>\n",
       "    </tr>\n",
       "    <tr>\n",
       "      <th>4</th>\n",
       "      <td>CAN</td>\n",
       "      <td>9.583332e+09</td>\n",
       "    </tr>\n",
       "    <tr>\n",
       "      <th>5</th>\n",
       "      <td>FRA</td>\n",
       "      <td>7.259537e+09</td>\n",
       "    </tr>\n",
       "    <tr>\n",
       "      <th>6</th>\n",
       "      <td>ISR</td>\n",
       "      <td>6.907515e+09</td>\n",
       "    </tr>\n",
       "    <tr>\n",
       "      <th>7</th>\n",
       "      <td>DEU</td>\n",
       "      <td>6.346960e+09</td>\n",
       "    </tr>\n",
       "    <tr>\n",
       "      <th>8</th>\n",
       "      <td>JPN</td>\n",
       "      <td>3.363677e+09</td>\n",
       "    </tr>\n",
       "  </tbody>\n",
       "</table>\n",
       "</div>"
      ],
      "text/plain": [
       "  country_code  raised_amount_usd\n",
       "0          USA       4.225108e+11\n",
       "1          CHN       3.983542e+10\n",
       "2          GBR       2.024563e+10\n",
       "3          IND       1.439186e+10\n",
       "4          CAN       9.583332e+09\n",
       "5          FRA       7.259537e+09\n",
       "6          ISR       6.907515e+09\n",
       "7          DEU       6.346960e+09\n",
       "8          JPN       3.363677e+09"
      ]
     },
     "execution_count": 31,
     "metadata": {},
     "output_type": "execute_result"
    }
   ],
   "source": [
    "top9 = master_frame.groupby(\"country_code\")['raised_amount_usd'].sum().sort_values(ascending = False).reset_index().head(9)\n",
    "top9"
   ]
  },
  {
   "cell_type": "code",
   "execution_count": 32,
   "id": "1b168b74",
   "metadata": {},
   "outputs": [
    {
     "data": {
      "image/png": "[encoded data removed]",
      "text/plain": [
       "<Figure size 1080x720 with 1 Axes>"
      ]
     },
     "metadata": {
      "needs_background": "light"
     },
     "output_type": "display_data"
    }
   ],
   "source": [
    "plt.figure(figsize = (15,10))\n",
    "plt.title('Investment across various countries')\n",
    "sns.barplot(x='country_code', y=\"raised_amount_usd\", data=top9, estimator=np.sum)\n",
    "plt.xticks(rotation=45)\n",
    "plt.show()"
   ]
  },
  {
   "cell_type": "markdown",
   "id": "4edd0f96",
   "metadata": {},
   "source": [
    "Amoung the top 9 countries, we can consider USA, GBR, IND as English speaking countries based on there english adaptation to the daily work life. Also as per wikipedia offical english speaking countries list."
   ]
  },
  {
   "cell_type": "code",
   "execution_count": 33,
   "id": "6e51d7f8",
   "metadata": {},
   "outputs": [
    {
     "data": {
      "image/png": "[encoded data removed]",
      "text/plain": [
       "<Figure size 360x720 with 1 Axes>"
      ]
     },
     "metadata": {
      "needs_background": "light"
     },
     "output_type": "display_data"
    }
   ],
   "source": [
    "plt.figure(figsize = (5,10))\n",
    "plt.title('Top 3 Investment Funded Countries')\n",
    "sns.barplot(x='country_code', y=\"raised_amount_usd\", data=top9[top9.country_code.isin(['USA','GBR','IND'])], estimator=np.sum)\n",
    "plt.show()"
   ]
  },
  {
   "cell_type": "markdown",
   "id": "3a8fbc80",
   "metadata": {},
   "source": [
    "### Checkpoint 4: Sector Analysis 1"
   ]
  },
  {
   "cell_type": "markdown",
   "id": "51e489b8",
   "metadata": {},
   "source": [
    "Extract the primary sector of each category list from the category_list column"
   ]
  },
  {
   "cell_type": "code",
   "execution_count": 34,
   "id": "66d6132c",
   "metadata": {},
   "outputs": [
    {
     "data": {
      "text/plain": [
       "(49726, 16)"
      ]
     },
     "execution_count": 34,
     "metadata": {},
     "output_type": "execute_result"
    }
   ],
   "source": [
    "master_frame.dropna(subset=[\"category_list\"], inplace=True)\n",
    "master_frame.reset_index(inplace=True, drop=True)\n",
    "master_frame.shape"
   ]
  },
  {
   "cell_type": "code",
   "execution_count": 35,
   "id": "861a3e87",
   "metadata": {},
   "outputs": [],
   "source": [
    "master_frame['primary_sector']=master_frame.category_list.apply(lambda x: x.split('|')[0].lower() if '|' in x else x.lower())"
   ]
  },
  {
   "cell_type": "code",
   "execution_count": 36,
   "id": "57712d6e",
   "metadata": {},
   "outputs": [
    {
     "data": {
      "text/plain": [
       "(687, 2)"
      ]
     },
     "execution_count": 36,
     "metadata": {},
     "output_type": "execute_result"
    }
   ],
   "source": [
    "mapping.dropna(inplace=True)\n",
    "mapping=mapping.melt(id_vars=\"category_list\",var_name=\"main_sector\")\n",
    "mapping=mapping[~(mapping[\"value\"]==0)]\n",
    "mapping=mapping[~(mapping['main_sector']=='Blanks')]\n",
    "mapping['category']=mapping['category_list'].apply(lambda x: x.lower())\n",
    "mapping.drop(['value','category_list'],inplace=True, axis=1)\n",
    "mapping.reset_index(inplace=True, drop=True)\n",
    "mapping.shape"
   ]
  },
  {
   "cell_type": "code",
   "execution_count": 37,
   "id": "b4316c1e",
   "metadata": {},
   "outputs": [],
   "source": [
    "set3 = set(master_frame['primary_sector'].values)\n",
    "set4 = set(mapping['category'].values)\n",
    "sector_common = set3.intersection(set4)\n",
    "sector_uncommon = set3.symmetric_difference(set4)"
   ]
  },
  {
   "cell_type": "code",
   "execution_count": 38,
   "id": "c876e94a",
   "metadata": {},
   "outputs": [
    {
     "data": {
      "text/plain": [
       "(549, 196)"
      ]
     },
     "execution_count": 38,
     "metadata": {},
     "output_type": "execute_result"
    }
   ],
   "source": [
    "len(sector_common), len(sector_uncommon)"
   ]
  },
  {
   "cell_type": "code",
   "execution_count": 39,
   "id": "ee31b848",
   "metadata": {},
   "outputs": [
    {
     "data": {
      "text/plain": [
       "(46523, 19)"
      ]
     },
     "execution_count": 39,
     "metadata": {},
     "output_type": "execute_result"
    }
   ],
   "source": [
    "sector_df=pd.merge(master_frame,mapping,how='inner',left_on='primary_sector',right_on='category')\n",
    "sector_df.shape"
   ]
  },
  {
   "cell_type": "code",
   "execution_count": 40,
   "id": "151f34df",
   "metadata": {},
   "outputs": [
    {
     "data": {
      "image/png": "[encoded data removed]",
      "text/plain": [
       "<Figure size 864x720 with 1 Axes>"
      ]
     },
     "metadata": {
      "needs_background": "light"
     },
     "output_type": "display_data"
    }
   ],
   "source": [
    "plt.figure(figsize = (12,10))\n",
    "plt.title('Main 8 sectors Investment')\n",
    "sns.barplot(x='main_sector', y=\"raised_amount_usd\", data=sector_df, estimator=np.sum)\n",
    "plt.xticks(rotation=45)\n",
    "plt.show()"
   ]
  },
  {
   "cell_type": "code",
   "execution_count": 41,
   "id": "4cda4e8b",
   "metadata": {},
   "outputs": [
    {
     "data": {
      "text/html": [
       "<div>\n",
       "<style scoped>\n",
       "    .dataframe tbody tr th:only-of-type {\n",
       "        vertical-align: middle;\n",
       "    }\n",
       "\n",
       "    .dataframe tbody tr th {\n",
       "        vertical-align: top;\n",
       "    }\n",
       "\n",
       "    .dataframe thead th {\n",
       "        text-align: right;\n",
       "    }\n",
       "</style>\n",
       "<table border=\"1\" class=\"dataframe\">\n",
       "  <thead>\n",
       "    <tr style=\"text-align: right;\">\n",
       "      <th></th>\n",
       "      <th>permalink</th>\n",
       "      <th>name</th>\n",
       "      <th>homepage_url</th>\n",
       "      <th>category_list</th>\n",
       "      <th>status</th>\n",
       "      <th>country_code</th>\n",
       "      <th>state_code</th>\n",
       "      <th>region</th>\n",
       "      <th>city</th>\n",
       "      <th>founded_at</th>\n",
       "      <th>company_permalink</th>\n",
       "      <th>funding_round_permalink</th>\n",
       "      <th>funding_round_type</th>\n",
       "      <th>funding_round_code</th>\n",
       "      <th>funded_at</th>\n",
       "      <th>raised_amount_usd</th>\n",
       "      <th>primary_sector</th>\n",
       "      <th>main_sector</th>\n",
       "      <th>category</th>\n",
       "    </tr>\n",
       "  </thead>\n",
       "  <tbody>\n",
       "    <tr>\n",
       "      <th>0</th>\n",
       "      <td>/organization/-fame</td>\n",
       "      <td>#fame</td>\n",
       "      <td>http://livfame.com</td>\n",
       "      <td>Media</td>\n",
       "      <td>operating</td>\n",
       "      <td>IND</td>\n",
       "      <td>16</td>\n",
       "      <td>Mumbai</td>\n",
       "      <td>Mumbai</td>\n",
       "      <td>NaN</td>\n",
       "      <td>/organization/-fame</td>\n",
       "      <td>/funding-round/9a01d05418af9f794eebff7ace91f638</td>\n",
       "      <td>venture</td>\n",
       "      <td>B</td>\n",
       "      <td>05-01-2015</td>\n",
       "      <td>10000000.0</td>\n",
       "      <td>media</td>\n",
       "      <td>Entertainment</td>\n",
       "      <td>media</td>\n",
       "    </tr>\n",
       "    <tr>\n",
       "      <th>1</th>\n",
       "      <td>/organization/90min</td>\n",
       "      <td>90min</td>\n",
       "      <td>http://www.90min.com</td>\n",
       "      <td>Media|News|Publishing|Soccer|Sports</td>\n",
       "      <td>operating</td>\n",
       "      <td>GBR</td>\n",
       "      <td>H9</td>\n",
       "      <td>London</td>\n",
       "      <td>London</td>\n",
       "      <td>01-01-2011</td>\n",
       "      <td>/organization/90min</td>\n",
       "      <td>/funding-round/21a2cbf6f2fb2a1c2a61e04bf930dfe6</td>\n",
       "      <td>venture</td>\n",
       "      <td>NaN</td>\n",
       "      <td>06-10-2015</td>\n",
       "      <td>15000000.0</td>\n",
       "      <td>media</td>\n",
       "      <td>Entertainment</td>\n",
       "      <td>media</td>\n",
       "    </tr>\n",
       "    <tr>\n",
       "      <th>2</th>\n",
       "      <td>/organization/90min</td>\n",
       "      <td>90min</td>\n",
       "      <td>http://www.90min.com</td>\n",
       "      <td>Media|News|Publishing|Soccer|Sports</td>\n",
       "      <td>operating</td>\n",
       "      <td>GBR</td>\n",
       "      <td>H9</td>\n",
       "      <td>London</td>\n",
       "      <td>London</td>\n",
       "      <td>01-01-2011</td>\n",
       "      <td>/organization/90min</td>\n",
       "      <td>/funding-round/bd626ed022f5c66574b1afe234f3c90d</td>\n",
       "      <td>venture</td>\n",
       "      <td>NaN</td>\n",
       "      <td>07-05-2013</td>\n",
       "      <td>5800000.0</td>\n",
       "      <td>media</td>\n",
       "      <td>Entertainment</td>\n",
       "      <td>media</td>\n",
       "    </tr>\n",
       "    <tr>\n",
       "      <th>3</th>\n",
       "      <td>/organization/90min</td>\n",
       "      <td>90min</td>\n",
       "      <td>http://www.90min.com</td>\n",
       "      <td>Media|News|Publishing|Soccer|Sports</td>\n",
       "      <td>operating</td>\n",
       "      <td>GBR</td>\n",
       "      <td>H9</td>\n",
       "      <td>London</td>\n",
       "      <td>London</td>\n",
       "      <td>01-01-2011</td>\n",
       "      <td>/organization/90min</td>\n",
       "      <td>/funding-round/fd4b15e8c97ee2ffc0acccdbe1a98810</td>\n",
       "      <td>venture</td>\n",
       "      <td>NaN</td>\n",
       "      <td>26-03-2014</td>\n",
       "      <td>18000000.0</td>\n",
       "      <td>media</td>\n",
       "      <td>Entertainment</td>\n",
       "      <td>media</td>\n",
       "    </tr>\n",
       "    <tr>\n",
       "      <th>4</th>\n",
       "      <td>/organization/all-def-digital</td>\n",
       "      <td>All Def Digital</td>\n",
       "      <td>http://alldefdigital.com</td>\n",
       "      <td>Media</td>\n",
       "      <td>operating</td>\n",
       "      <td>USA</td>\n",
       "      <td>CA</td>\n",
       "      <td>Los Angeles</td>\n",
       "      <td>Los Angeles</td>\n",
       "      <td>NaN</td>\n",
       "      <td>/organization/all-def-digital</td>\n",
       "      <td>/funding-round/452a2342fe720285c3b92e9bd927d9ba</td>\n",
       "      <td>venture</td>\n",
       "      <td>A</td>\n",
       "      <td>06-08-2014</td>\n",
       "      <td>5000000.0</td>\n",
       "      <td>media</td>\n",
       "      <td>Entertainment</td>\n",
       "      <td>media</td>\n",
       "    </tr>\n",
       "  </tbody>\n",
       "</table>\n",
       "</div>"
      ],
      "text/plain": [
       "                       permalink             name              homepage_url  \\\n",
       "0            /organization/-fame            #fame        http://livfame.com   \n",
       "1            /organization/90min            90min      http://www.90min.com   \n",
       "2            /organization/90min            90min      http://www.90min.com   \n",
       "3            /organization/90min            90min      http://www.90min.com   \n",
       "4  /organization/all-def-digital  All Def Digital  http://alldefdigital.com   \n",
       "\n",
       "                         category_list     status country_code state_code  \\\n",
       "0                                Media  operating          IND         16   \n",
       "1  Media|News|Publishing|Soccer|Sports  operating          GBR         H9   \n",
       "2  Media|News|Publishing|Soccer|Sports  operating          GBR         H9   \n",
       "3  Media|News|Publishing|Soccer|Sports  operating          GBR         H9   \n",
       "4                                Media  operating          USA         CA   \n",
       "\n",
       "        region         city  founded_at              company_permalink  \\\n",
       "0       Mumbai       Mumbai         NaN            /organization/-fame   \n",
       "1       London       London  01-01-2011            /organization/90min   \n",
       "2       London       London  01-01-2011            /organization/90min   \n",
       "3       London       London  01-01-2011            /organization/90min   \n",
       "4  Los Angeles  Los Angeles         NaN  /organization/all-def-digital   \n",
       "\n",
       "                           funding_round_permalink funding_round_type  \\\n",
       "0  /funding-round/9a01d05418af9f794eebff7ace91f638            venture   \n",
       "1  /funding-round/21a2cbf6f2fb2a1c2a61e04bf930dfe6            venture   \n",
       "2  /funding-round/bd626ed022f5c66574b1afe234f3c90d            venture   \n",
       "3  /funding-round/fd4b15e8c97ee2ffc0acccdbe1a98810            venture   \n",
       "4  /funding-round/452a2342fe720285c3b92e9bd927d9ba            venture   \n",
       "\n",
       "  funding_round_code   funded_at  raised_amount_usd primary_sector  \\\n",
       "0                  B  05-01-2015         10000000.0          media   \n",
       "1                NaN  06-10-2015         15000000.0          media   \n",
       "2                NaN  07-05-2013          5800000.0          media   \n",
       "3                NaN  26-03-2014         18000000.0          media   \n",
       "4                  A  06-08-2014          5000000.0          media   \n",
       "\n",
       "     main_sector category  \n",
       "0  Entertainment    media  \n",
       "1  Entertainment    media  \n",
       "2  Entertainment    media  \n",
       "3  Entertainment    media  \n",
       "4  Entertainment    media  "
      ]
     },
     "execution_count": 41,
     "metadata": {},
     "output_type": "execute_result"
    }
   ],
   "source": [
    "sector_df.head()"
   ]
  },
  {
   "cell_type": "markdown",
   "id": "25d1d6bb",
   "metadata": {},
   "source": [
    "### Checkpoint 5: Sector Analysis 2"
   ]
  },
  {
   "cell_type": "code",
   "execution_count": 42,
   "id": "69dd5014",
   "metadata": {},
   "outputs": [],
   "source": [
    "eight_sectors= ['Automotive & Sports', 'Cleantech / Semiconductors', 'Entertainment', \n",
    "                'Health', 'Manufacturing', 'News, Search and Messaging', 'Others',\n",
    "               'Social, Finance, Analytics, Advertising'] "
   ]
  },
  {
   "cell_type": "code",
   "execution_count": 43,
   "id": "204d1796",
   "metadata": {},
   "outputs": [],
   "source": [
    "usa_df=sector_df.loc[(sector_df['country_code']=='USA') & (sector_df['raised_amount_usd']>=5000000) & (sector_df['raised_amount_usd']<=15000000) & (sector_df['main_sector'].isin(eight_sectors))].reset_index(drop=True)\n",
    "gbr_df=sector_df.loc[(sector_df['country_code']=='GBR') & (sector_df['raised_amount_usd']>=5000000) & (sector_df['raised_amount_usd']<=15000000) & (sector_df['main_sector'].isin(eight_sectors))].reset_index(drop=True)\n",
    "ind_df=sector_df.loc[(sector_df['country_code']=='IND') & (sector_df['raised_amount_usd']>=5000000) & (sector_df['raised_amount_usd']<=15000000) & (sector_df['main_sector'].isin(eight_sectors))].reset_index(drop=True)"
   ]
  },
  {
   "cell_type": "markdown",
   "id": "d4795402",
   "metadata": {},
   "source": [
    "####  USA Analysis"
   ]
  },
  {
   "cell_type": "code",
   "execution_count": 44,
   "id": "a4352f28",
   "metadata": {},
   "outputs": [
    {
     "data": {
      "image/png": "[encoded data removed]",
      "text/plain": [
       "<Figure size 1440x720 with 2 Axes>"
      ]
     },
     "metadata": {
      "needs_background": "light"
     },
     "output_type": "display_data"
    }
   ],
   "source": [
    "f,(ax1,ax2)=plt.subplots(1,2, figsize=(20,10))\n",
    "plt.subplot(1, 2, 1)\n",
    "plt.title('Count')\n",
    "sns.barplot(x='raised_amount_usd', y=\"main_sector\", data=usa_df, estimator=len)\n",
    "plt.subplot(1, 2, 2)\n",
    "plt.title('Sum')\n",
    "sns.barplot(x='raised_amount_usd', y=\"main_sector\", data=usa_df, estimator=np.sum)\n",
    "plt.show()"
   ]
  },
  {
   "cell_type": "code",
   "execution_count": 45,
   "id": "88320185",
   "metadata": {},
   "outputs": [
    {
     "data": {
      "text/plain": [
       "11149"
      ]
     },
     "execution_count": 45,
     "metadata": {},
     "output_type": "execute_result"
    }
   ],
   "source": [
    "usa_df.main_sector.value_counts().sum()"
   ]
  },
  {
   "cell_type": "code",
   "execution_count": 46,
   "id": "a938cb7b",
   "metadata": {},
   "outputs": [
    {
     "data": {
      "text/plain": [
       "99661524549.0"
      ]
     },
     "execution_count": 46,
     "metadata": {},
     "output_type": "execute_result"
    }
   ],
   "source": [
    "usa_df.raised_amount_usd.sum()"
   ]
  },
  {
   "cell_type": "code",
   "execution_count": 47,
   "id": "2087df63",
   "metadata": {},
   "outputs": [
    {
     "data": {
      "text/html": [
       "<div>\n",
       "<style scoped>\n",
       "    .dataframe tbody tr th:only-of-type {\n",
       "        vertical-align: middle;\n",
       "    }\n",
       "\n",
       "    .dataframe tbody tr th {\n",
       "        vertical-align: top;\n",
       "    }\n",
       "\n",
       "    .dataframe thead th {\n",
       "        text-align: right;\n",
       "    }\n",
       "</style>\n",
       "<table border=\"1\" class=\"dataframe\">\n",
       "  <thead>\n",
       "    <tr style=\"text-align: right;\">\n",
       "      <th></th>\n",
       "      <th>main_sector</th>\n",
       "    </tr>\n",
       "  </thead>\n",
       "  <tbody>\n",
       "    <tr>\n",
       "      <th>Others</th>\n",
       "      <td>2923</td>\n",
       "    </tr>\n",
       "    <tr>\n",
       "      <th>Cleantech / Semiconductors</th>\n",
       "      <td>2297</td>\n",
       "    </tr>\n",
       "    <tr>\n",
       "      <th>Social, Finance, Analytics, Advertising</th>\n",
       "      <td>1912</td>\n",
       "    </tr>\n",
       "    <tr>\n",
       "      <th>News, Search and Messaging</th>\n",
       "      <td>1563</td>\n",
       "    </tr>\n",
       "    <tr>\n",
       "      <th>Health</th>\n",
       "      <td>908</td>\n",
       "    </tr>\n",
       "    <tr>\n",
       "      <th>Manufacturing</th>\n",
       "      <td>799</td>\n",
       "    </tr>\n",
       "    <tr>\n",
       "      <th>Entertainment</th>\n",
       "      <td>580</td>\n",
       "    </tr>\n",
       "    <tr>\n",
       "      <th>Automotive &amp; Sports</th>\n",
       "      <td>167</td>\n",
       "    </tr>\n",
       "  </tbody>\n",
       "</table>\n",
       "</div>"
      ],
      "text/plain": [
       "                                         main_sector\n",
       "Others                                          2923\n",
       "Cleantech / Semiconductors                      2297\n",
       "Social, Finance, Analytics, Advertising         1912\n",
       "News, Search and Messaging                      1563\n",
       "Health                                           908\n",
       "Manufacturing                                    799\n",
       "Entertainment                                    580\n",
       "Automotive & Sports                              167"
      ]
     },
     "execution_count": 47,
     "metadata": {},
     "output_type": "execute_result"
    }
   ],
   "source": [
    "pd.DataFrame(usa_df.main_sector.value_counts())"
   ]
  },
  {
   "cell_type": "code",
   "execution_count": 48,
   "id": "fc84abfd",
   "metadata": {},
   "outputs": [
    {
     "data": {
      "text/plain": [
       "company_permalink\n",
       "/organization/virtustream            64300000.0\n",
       "/organization/capella                54968051.0\n",
       "/organization/airtight-networks      54201907.0\n",
       "/organization/decarta                52100000.0\n",
       "/organization/black-duck-software    51000000.0\n",
       "Name: raised_amount_usd, dtype: float64"
      ]
     },
     "execution_count": 48,
     "metadata": {},
     "output_type": "execute_result"
    }
   ],
   "source": [
    "usa_df[usa_df['main_sector']=='Others'].groupby(by='company_permalink')['raised_amount_usd'].sum().sort_values(ascending = False).head(5)"
   ]
  },
  {
   "cell_type": "markdown",
   "id": "a8e9ebe7",
   "metadata": {},
   "source": [
    "#### GBR Analysis"
   ]
  },
  {
   "cell_type": "code",
   "execution_count": 49,
   "id": "64a9786f",
   "metadata": {},
   "outputs": [
    {
     "data": {
      "image/png": "[encoded data removed]",
      "text/plain": [
       "<Figure size 1440x720 with 2 Axes>"
      ]
     },
     "metadata": {
      "needs_background": "light"
     },
     "output_type": "display_data"
    }
   ],
   "source": [
    "f,(ax1,ax2)=plt.subplots(1,2, figsize=(20,10))\n",
    "plt.subplot(1, 2, 1)\n",
    "plt.title('Count')\n",
    "sns.barplot(x='raised_amount_usd', y=\"main_sector\", data=gbr_df, estimator=len)\n",
    "plt.subplot(1, 2, 2)\n",
    "plt.title('Sum')\n",
    "sns.barplot(x='raised_amount_usd', y=\"main_sector\", data=gbr_df, estimator=np.sum)\n",
    "plt.show()"
   ]
  },
  {
   "cell_type": "code",
   "execution_count": 50,
   "id": "18c0138d",
   "metadata": {},
   "outputs": [
    {
     "data": {
      "text/plain": [
       "577"
      ]
     },
     "execution_count": 50,
     "metadata": {},
     "output_type": "execute_result"
    }
   ],
   "source": [
    "gbr_df.main_sector.value_counts().sum()"
   ]
  },
  {
   "cell_type": "code",
   "execution_count": 51,
   "id": "4dda819d",
   "metadata": {},
   "outputs": [
    {
     "data": {
      "text/plain": [
       "5028704358.0"
      ]
     },
     "execution_count": 51,
     "metadata": {},
     "output_type": "execute_result"
    }
   ],
   "source": [
    "gbr_df.raised_amount_usd.sum()"
   ]
  },
  {
   "cell_type": "code",
   "execution_count": 52,
   "id": "e58de094",
   "metadata": {},
   "outputs": [
    {
     "data": {
      "text/html": [
       "<div>\n",
       "<style scoped>\n",
       "    .dataframe tbody tr th:only-of-type {\n",
       "        vertical-align: middle;\n",
       "    }\n",
       "\n",
       "    .dataframe tbody tr th {\n",
       "        vertical-align: top;\n",
       "    }\n",
       "\n",
       "    .dataframe thead th {\n",
       "        text-align: right;\n",
       "    }\n",
       "</style>\n",
       "<table border=\"1\" class=\"dataframe\">\n",
       "  <thead>\n",
       "    <tr style=\"text-align: right;\">\n",
       "      <th></th>\n",
       "      <th>main_sector</th>\n",
       "    </tr>\n",
       "  </thead>\n",
       "  <tbody>\n",
       "    <tr>\n",
       "      <th>Others</th>\n",
       "      <td>143</td>\n",
       "    </tr>\n",
       "    <tr>\n",
       "      <th>Cleantech / Semiconductors</th>\n",
       "      <td>127</td>\n",
       "    </tr>\n",
       "    <tr>\n",
       "      <th>Social, Finance, Analytics, Advertising</th>\n",
       "      <td>98</td>\n",
       "    </tr>\n",
       "    <tr>\n",
       "      <th>News, Search and Messaging</th>\n",
       "      <td>73</td>\n",
       "    </tr>\n",
       "    <tr>\n",
       "      <th>Entertainment</th>\n",
       "      <td>54</td>\n",
       "    </tr>\n",
       "    <tr>\n",
       "      <th>Manufacturing</th>\n",
       "      <td>42</td>\n",
       "    </tr>\n",
       "    <tr>\n",
       "      <th>Health</th>\n",
       "      <td>24</td>\n",
       "    </tr>\n",
       "    <tr>\n",
       "      <th>Automotive &amp; Sports</th>\n",
       "      <td>16</td>\n",
       "    </tr>\n",
       "  </tbody>\n",
       "</table>\n",
       "</div>"
      ],
      "text/plain": [
       "                                         main_sector\n",
       "Others                                           143\n",
       "Cleantech / Semiconductors                       127\n",
       "Social, Finance, Analytics, Advertising           98\n",
       "News, Search and Messaging                        73\n",
       "Entertainment                                     54\n",
       "Manufacturing                                     42\n",
       "Health                                            24\n",
       "Automotive & Sports                               16"
      ]
     },
     "execution_count": 52,
     "metadata": {},
     "output_type": "execute_result"
    }
   ],
   "source": [
    "pd.DataFrame(gbr_df.main_sector.value_counts())"
   ]
  },
  {
   "cell_type": "code",
   "execution_count": 53,
   "id": "e1326c04",
   "metadata": {},
   "outputs": [
    {
     "data": {
      "text/plain": [
       "company_permalink\n",
       "/organization/electric-cloud             37000000.0\n",
       "/organization/sensage                    36250000.0\n",
       "/organization/enigmatic                  32500000.0\n",
       "/organization/silverrail-technologies    29000000.0\n",
       "/organization/opencloud                  27972766.0\n",
       "Name: raised_amount_usd, dtype: float64"
      ]
     },
     "execution_count": 53,
     "metadata": {},
     "output_type": "execute_result"
    }
   ],
   "source": [
    "gbr_df[gbr_df['main_sector']=='Others'].groupby(by='company_permalink')['raised_amount_usd'].sum().sort_values(ascending = False).head(5)"
   ]
  },
  {
   "cell_type": "markdown",
   "id": "573f463f",
   "metadata": {},
   "source": [
    "####  IND Analysis"
   ]
  },
  {
   "cell_type": "code",
   "execution_count": 54,
   "id": "fec9e387",
   "metadata": {},
   "outputs": [
    {
     "data": {
      "image/png": "[encoded data removed]",
      "text/plain": [
       "<Figure size 1440x720 with 2 Axes>"
      ]
     },
     "metadata": {
      "needs_background": "light"
     },
     "output_type": "display_data"
    }
   ],
   "source": [
    "f,(ax1,ax2)=plt.subplots(1,2, figsize=(20,10))\n",
    "plt.subplot(1, 2, 1)\n",
    "plt.title('Count')\n",
    "sns.barplot(x='raised_amount_usd', y=\"main_sector\", data=ind_df, estimator=len)\n",
    "plt.subplot(1, 2, 2)\n",
    "plt.title('Sum')\n",
    "sns.barplot(x='raised_amount_usd', y=\"main_sector\", data=ind_df, estimator=np.sum)\n",
    "plt.show()"
   ]
  },
  {
   "cell_type": "code",
   "execution_count": 55,
   "id": "ef60a1b6",
   "metadata": {},
   "outputs": [
    {
     "data": {
      "text/plain": [
       "299"
      ]
     },
     "execution_count": 55,
     "metadata": {},
     "output_type": "execute_result"
    }
   ],
   "source": [
    "ind_df.main_sector.value_counts().sum()"
   ]
  },
  {
   "cell_type": "code",
   "execution_count": 56,
   "id": "e533075e",
   "metadata": {},
   "outputs": [
    {
     "data": {
      "text/plain": [
       "2683537552.0"
      ]
     },
     "execution_count": 56,
     "metadata": {},
     "output_type": "execute_result"
    }
   ],
   "source": [
    "ind_df.raised_amount_usd.sum()"
   ]
  },
  {
   "cell_type": "code",
   "execution_count": 57,
   "id": "fb09c575",
   "metadata": {},
   "outputs": [
    {
     "data": {
      "text/html": [
       "<div>\n",
       "<style scoped>\n",
       "    .dataframe tbody tr th:only-of-type {\n",
       "        vertical-align: middle;\n",
       "    }\n",
       "\n",
       "    .dataframe tbody tr th {\n",
       "        vertical-align: top;\n",
       "    }\n",
       "\n",
       "    .dataframe thead th {\n",
       "        text-align: right;\n",
       "    }\n",
       "</style>\n",
       "<table border=\"1\" class=\"dataframe\">\n",
       "  <thead>\n",
       "    <tr style=\"text-align: right;\">\n",
       "      <th></th>\n",
       "      <th>main_sector</th>\n",
       "    </tr>\n",
       "  </thead>\n",
       "  <tbody>\n",
       "    <tr>\n",
       "      <th>Others</th>\n",
       "      <td>109</td>\n",
       "    </tr>\n",
       "    <tr>\n",
       "      <th>News, Search and Messaging</th>\n",
       "      <td>52</td>\n",
       "    </tr>\n",
       "    <tr>\n",
       "      <th>Entertainment</th>\n",
       "      <td>33</td>\n",
       "    </tr>\n",
       "    <tr>\n",
       "      <th>Social, Finance, Analytics, Advertising</th>\n",
       "      <td>32</td>\n",
       "    </tr>\n",
       "    <tr>\n",
       "      <th>Manufacturing</th>\n",
       "      <td>21</td>\n",
       "    </tr>\n",
       "    <tr>\n",
       "      <th>Cleantech / Semiconductors</th>\n",
       "      <td>20</td>\n",
       "    </tr>\n",
       "    <tr>\n",
       "      <th>Health</th>\n",
       "      <td>19</td>\n",
       "    </tr>\n",
       "    <tr>\n",
       "      <th>Automotive &amp; Sports</th>\n",
       "      <td>13</td>\n",
       "    </tr>\n",
       "  </tbody>\n",
       "</table>\n",
       "</div>"
      ],
      "text/plain": [
       "                                         main_sector\n",
       "Others                                           109\n",
       "News, Search and Messaging                        52\n",
       "Entertainment                                     33\n",
       "Social, Finance, Analytics, Advertising           32\n",
       "Manufacturing                                     21\n",
       "Cleantech / Semiconductors                        20\n",
       "Health                                            19\n",
       "Automotive & Sports                               13"
      ]
     },
     "execution_count": 57,
     "metadata": {},
     "output_type": "execute_result"
    }
   ],
   "source": [
    "pd.DataFrame(ind_df.main_sector.value_counts())"
   ]
  },
  {
   "cell_type": "code",
   "execution_count": 58,
   "id": "02957533",
   "metadata": {},
   "outputs": [
    {
     "data": {
      "text/plain": [
       "company_permalink\n",
       "/organization/firstcry-com        39000000.0\n",
       "/organization/myntra              38000000.0\n",
       "/organization/commonfloor         32900000.0\n",
       "/organization/pepperfry-com       28000000.0\n",
       "/organization/itzcash-card-ltd    25000000.0\n",
       "Name: raised_amount_usd, dtype: float64"
      ]
     },
     "execution_count": 58,
     "metadata": {},
     "output_type": "execute_result"
    }
   ],
   "source": [
    "ind_df[ind_df['main_sector']=='Others'].groupby(by='company_permalink')['raised_amount_usd'].sum().sort_values(ascending = False).head(5)"
   ]
  },
  {
   "cell_type": "markdown",
   "id": "82ee46bb",
   "metadata": {},
   "source": [
    "### Checkpoint 6: Three plots "
   ]
  },
  {
   "cell_type": "markdown",
   "id": "71f870a2",
   "metadata": {},
   "source": [
    "A plot showing the representative amount of investment in each funding type. This chart should make it clear that a certain funding type (FT) is best suited for Spark Funds.\n",
    "\n",
    "A plot showing the top 9 countries against the total amount of investments of funding type FT. This should make the top 3 countries (Country 1, Country 2, and Country 3) very clear.\n",
    "\n",
    "A plot showing the number of investments in the top 3 sectors of the top 3 countries on one chart (for the chosen investment type FT). This plot should clearly display the top 3 sectors each in Country 1, Country 2, and Country 3."
   ]
  },
  {
   "cell_type": "code",
   "execution_count": 59,
   "id": "5ae4e6dd",
   "metadata": {},
   "outputs": [
    {
     "data": {
      "image/png": "[encoded data removed]",
      "text/plain": [
       "<Figure size 1440x720 with 1 Axes>"
      ]
     },
     "metadata": {
      "needs_background": "light"
     },
     "output_type": "display_data"
    }
   ],
   "source": [
    "top3 = pd.concat([usa_df, gbr_df, ind_df])\n",
    "plt.figure(figsize=(20, 10))\n",
    "sns.barplot(x='country_code', y='raised_amount_usd', hue=\"main_sector\", data=top3, estimator=np.sum)\n",
    "plt.show()"
   ]
  },
  {
   "cell_type": "code",
   "execution_count": null,
   "id": "4194de0b",
   "metadata": {},
   "outputs": [],
   "source": []
  }
 ],
 "metadata": {
  "kernelspec": {
   "display_name": "Python 3",
   "language": "python",
   "name": "python3"
  },
  "language_info": {
   "codemirror_mode": {
    "name": "ipython",
    "version": 3
   },
   "file_extension": ".py",
   "mimetype": "text/x-python",
   "name": "python",
   "nbconvert_exporter": "python",
   "pygments_lexer": "ipython3",
   "version": "3.8.8"
  }
 },
 "nbformat": 4,
 "nbformat_minor": 5
}
